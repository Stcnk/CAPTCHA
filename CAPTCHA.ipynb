{
 "cells": [
  {
   "cell_type": "code",
   "execution_count": null,
   "metadata": {},
   "outputs": [],
   "source": [
    "pip install captcha"
   ]
  },
  {
   "cell_type": "code",
   "execution_count": null,
   "metadata": {},
   "outputs": [],
   "source": [
    "from captcha.image import ImageCaptcha \n",
    "\n",
    "import random\n",
    "\n",
    "# Specify the image size\n",
    "\n",
    "image = ImageCaptcha(width=450, height=100)\n",
    "\n",
    "# Generate random captcha text\n",
    "\n",
    "def generate_random_captcha_text(length=6):\n",
    "\n",
    "    characters = 'abcdefghijklmnopqrstuvwxyzABCDEFGHIJKLMNOPQRSTUVWXYZ0123456789'\n",
    "\n",
    "    captcha_text = ''.join(random.choice(characters) for _ in range(length))\n",
    "\n",
    "    return captcha_text\n",
    "\n",
    "\n",
    "\n",
    "# Get random captcha text\n",
    "\n",
    "captcha_text = generate_random_captcha_text()\n",
    "\n",
    "\n",
    "\n",
    "# Generate the image of the given text\n",
    "\n",
    "data = image.generate(captcha_text)\n",
    "\n",
    "\n",
    "\n",
    "# Write the image on the given file and save it\n",
    "\n",
    "image.write(captcha_text, 'CAPTCHA1.png')\n",
    "\n",
    "\n",
    "\n",
    "from PIL import Image\n",
    "\n",
    "Image.open('CAPTCHA1.png')"
   ]
  }
 ],
 "metadata": {
  "kernelspec": {
   "display_name": "Python 3",
   "language": "python",
   "name": "python3"
  },
  "language_info": {
   "codemirror_mode": {
    "name": "ipython",
    "version": 3
   },
   "file_extension": ".py",
   "mimetype": "text/x-python",
   "name": "python",
   "nbconvert_exporter": "python",
   "pygments_lexer": "ipython3",
   "version": "3.9.6"
  }
 },
 "nbformat": 4,
 "nbformat_minor": 2
}
